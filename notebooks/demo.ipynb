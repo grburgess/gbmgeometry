{
 "cells": [
  {
   "cell_type": "markdown",
   "id": "331f8b65",
   "metadata": {},
   "source": [
    "# GBM Geometry Demo\n",
    "\n",
    "\n",
    "**gbmeometry** is a module with routines for handling GBM geometry. It performs a few tasks:\n",
    "* creates an astropy coordinate frame for Fermi GBM given a quarternion and spacecraft position\n",
    "* allows for coordinate transforms from Fermi frame to an astropy frame (J2000, etc.)\n",
    "* plots the GBM NaI detectors at a given time for a given FOV\n",
    "* determines if an astropy SkyCoord location is within a NaI's FOV\n",
    "* creates interpolations over GBM quarternions and SC coordinates\n"
   ]
  },
  {
   "cell_type": "code",
   "execution_count": 1,
   "id": "6315ef2a",
   "metadata": {
    "execution": {
     "iopub.execute_input": "2022-03-16T13:50:46.820272Z",
     "iopub.status.busy": "2022-03-16T13:50:46.820064Z",
     "iopub.status.idle": "2022-03-16T13:50:55.235343Z",
     "shell.execute_reply": "2022-03-16T13:50:55.234618Z"
    }
   },
   "outputs": [],
   "source": [
    "%matplotlib inline\n",
    "from astropy.coordinates import SkyCoord\n",
    "import astropy.coordinates as coord\n",
    "import astropy.units as u\n",
    "from gbmgeometry import *\n",
    "from gbmgeometry.utils.package_utils import get_path_of_data_file\n",
    "\n"
   ]
  },
  {
   "cell_type": "markdown",
   "id": "04677cc9",
   "metadata": {},
   "source": [
    "## Interpolating the spacecraft position\n",
    "First let's create an interpolating object for a given TRIGDAT file (POSHIST files are also readable)\n"
   ]
  },
  {
   "cell_type": "code",
   "execution_count": 2,
   "id": "d2944450",
   "metadata": {
    "execution": {
     "iopub.execute_input": "2022-03-16T13:50:55.239264Z",
     "iopub.status.busy": "2022-03-16T13:50:55.238987Z",
     "iopub.status.idle": "2022-03-16T13:50:55.380578Z",
     "shell.execute_reply": "2022-03-16T13:50:55.379897Z"
    }
   },
   "outputs": [],
   "source": [
    "interp = PositionInterpolator.from_trigdat(get_path_of_data_file(\"glg_trigdat_all_bn080916009_v02.fit\"))"
   ]
  },
  {
   "cell_type": "markdown",
   "id": "64bfb274",
   "metadata": {},
   "source": [
    "The quaternion and sc_pos functions can take as inputs the time since trigger"
   ]
  },
  {
   "cell_type": "code",
   "execution_count": 3,
   "id": "97770ec9",
   "metadata": {
    "execution": {
     "iopub.execute_input": "2022-03-16T13:50:55.384357Z",
     "iopub.status.busy": "2022-03-16T13:50:55.384037Z",
     "iopub.status.idle": "2022-03-16T13:50:55.390998Z",
     "shell.execute_reply": "2022-03-16T13:50:55.390368Z"
    }
   },
   "outputs": [
    {
     "name": "stdout",
     "output_type": "stream",
     "text": [
      "Quaternions\n",
      "[0.09894184 0.81399423 0.56763536 0.07357984]\n",
      "[0.09651158 0.81315938 0.56970097 0.06998621]\n",
      "SC XYZ\n",
      "[3184.75 5985.5  1456.75]\n",
      "[3111.77432458 6015.91372132 1488.98009345]\n"
     ]
    }
   ],
   "source": [
    "#\n",
    "print (\"Quaternions\")\n",
    "print (interp.quaternion(0))\n",
    "print (interp.quaternion(10))\n",
    "print\n",
    "print (\"SC XYZ\")\n",
    "print (interp.sc_pos(0))\n",
    "print (interp.sc_pos(10))\n",
    "\n",
    "\n",
    "\n"
   ]
  },
  {
   "cell_type": "markdown",
   "id": "f69ce7c0",
   "metadata": {},
   "source": [
    "## Single GBM detector properties\n",
    "\n",
    "One can look at a single detector which knows about it's orientation in the Fermi SC coordinates as well as where it is currently pointing on its optical axis in J2000. In fact, since the GBM  frame is part of the astropy coordinate family, it can be transformed into any system!\n",
    "\n",
    "\n",
    "\n",
    "\n",
    "\n"
   ]
  },
  {
   "cell_type": "code",
   "execution_count": 4,
   "id": "cba784e0",
   "metadata": {
    "execution": {
     "iopub.execute_input": "2022-03-16T13:50:55.394308Z",
     "iopub.status.busy": "2022-03-16T13:50:55.394024Z",
     "iopub.status.idle": "2022-03-16T13:50:55.400135Z",
     "shell.execute_reply": "2022-03-16T13:50:55.399653Z"
    }
   },
   "outputs": [
    {
     "data": {
      "text/plain": [
       "array([0.0986775 , 0.81390325, 0.56786244, 0.07318777])"
      ]
     },
     "execution_count": 4,
     "metadata": {},
     "output_type": "execute_result"
    }
   ],
   "source": [
    "interp.quaternion(1)"
   ]
  },
  {
   "cell_type": "code",
   "execution_count": 5,
   "id": "35499d8b",
   "metadata": {
    "execution": {
     "iopub.execute_input": "2022-03-16T13:50:55.402781Z",
     "iopub.status.busy": "2022-03-16T13:50:55.402417Z",
     "iopub.status.idle": "2022-03-16T13:50:55.427246Z",
     "shell.execute_reply": "2022-03-16T13:50:55.426599Z"
    }
   },
   "outputs": [
    {
     "name": "stdout",
     "output_type": "stream",
     "text": [
      "<SkyCoord (GBMFrame: sc_pos_X=None, sc_pos_Y=None, sc_pos_Z=None, quaternion_1=0.09867749622828526, quaternion_2=0.8139032523975553, quaternion_3=0.5678624418045289, quaternion_4=0.07318777342560503): (lon, lat) in deg\n",
      "    (123.73, -0.42)>\n",
      "<SkyCoord (ICRS): (ra, dec) in deg\n",
      "    (12.8426513, 51.9249513)>\n",
      "<SkyCoord (Galactic): (l, b) in deg\n",
      "    (122.92135609, -10.94679491)>\n",
      "Changing in time\n",
      "<SkyCoord (GBMFrame: sc_pos_X=None, sc_pos_Y=None, sc_pos_Z=None, quaternion_1=0.07365115360430513, quaternion_2=0.8058104624624784, quaternion_3=0.5863608294681484, quaternion_4=0.037717550642801925): (lon, lat) in deg\n",
      "    (123.73, -0.42)>\n",
      "<SkyCoord (ICRS): (ra, dec) in deg\n",
      "    (14.14827804, 51.13038764)>\n",
      "<SkyCoord (Galactic): (l, b) in deg\n",
      "    (123.75793083, -11.73309177)>\n"
     ]
    }
   ],
   "source": [
    "na = NaIA(interp.quaternion(1))\n",
    "print (na.center)\n",
    "print (na.center_icrs) #J2000\n",
    "print (na.center.galactic) # Galactic\n",
    " \n",
    "print (\"Changing in time\")\n",
    "na.set_quaternion(interp.quaternion(100))\n",
    "\n",
    "print (na.center)\n",
    "print (na.center_icrs) #J2000\n",
    "print (na.center.galactic) # Galactic\n",
    " "
   ]
  },
  {
   "cell_type": "markdown",
   "id": "d13752a5",
   "metadata": {},
   "source": [
    "#### We can also go back into the GBMFrame "
   ]
  },
  {
   "cell_type": "code",
   "execution_count": 6,
   "id": "14bedc9b",
   "metadata": {
    "execution": {
     "iopub.execute_input": "2022-03-16T13:50:55.430905Z",
     "iopub.status.busy": "2022-03-16T13:50:55.430352Z",
     "iopub.status.idle": "2022-03-16T13:50:55.435147Z",
     "shell.execute_reply": "2022-03-16T13:50:55.434519Z"
    }
   },
   "outputs": [
    {
     "data": {
      "text/plain": [
       "<SkyCoord (ICRS): (ra, dec) in deg\n",
       "    (14.14827804, 51.13038764)>"
      ]
     },
     "execution_count": 6,
     "metadata": {},
     "output_type": "execute_result"
    }
   ],
   "source": [
    "center_j2000 = na.center_icrs\n",
    "center_j2000"
   ]
  },
  {
   "cell_type": "code",
   "execution_count": 7,
   "id": "420d8857",
   "metadata": {
    "execution": {
     "iopub.execute_input": "2022-03-16T13:50:55.438177Z",
     "iopub.status.busy": "2022-03-16T13:50:55.437817Z",
     "iopub.status.idle": "2022-03-16T13:50:55.444483Z",
     "shell.execute_reply": "2022-03-16T13:50:55.443875Z"
    }
   },
   "outputs": [
    {
     "data": {
      "text/plain": [
       "<SkyCoord (GBMFrame: sc_pos_X=None, sc_pos_Y=None, sc_pos_Z=None, quaternion_1=0.07365115360430513, quaternion_2=0.8058104624624784, quaternion_3=0.5863608294681484, quaternion_4=0.037717550642801925): (lon, lat) in deg\n",
       "    (123.73020963, -0.4198826)>"
      ]
     },
     "execution_count": 7,
     "metadata": {},
     "output_type": "execute_result"
    }
   ],
   "source": [
    "center_j2000.transform_to(GBMFrame(**interp.quaternion_dict(100.)))"
   ]
  },
  {
   "cell_type": "markdown",
   "id": "19d19d8e",
   "metadata": {},
   "source": [
    "### Earth Centered Coordinates\n",
    "\n",
    "The sc_pos are Earth centered coordinates (in km for trigdat and m for poshist) and can also be passed. It is a good idea to specify the units!\n",
    "\n",
    "\n"
   ]
  },
  {
   "cell_type": "code",
   "execution_count": 8,
   "id": "4edf4b8b",
   "metadata": {
    "execution": {
     "iopub.execute_input": "2022-03-16T13:50:55.448012Z",
     "iopub.status.busy": "2022-03-16T13:50:55.447652Z",
     "iopub.status.idle": "2022-03-16T13:50:55.457626Z",
     "shell.execute_reply": "2022-03-16T13:50:55.457017Z"
    }
   },
   "outputs": [
    {
     "data": {
      "text/plain": [
       "<SkyCoord (GBMFrame: sc_pos_X=3184.75 km, sc_pos_Y=5985.5 km, sc_pos_Z=1456.75 km, quaternion_1=0.09894184023141861, quaternion_2=0.8139942288398743, quaternion_3=0.5676353573799133, quaternion_4=0.07357984036207199): (lon, lat) in deg\n",
       "    (123.73, -0.42)>"
      ]
     },
     "execution_count": 8,
     "metadata": {},
     "output_type": "execute_result"
    }
   ],
   "source": [
    "na = NaIA(interp.quaternion(0),interp.sc_pos(0)*u.km)\n",
    "na.get_center()"
   ]
  },
  {
   "cell_type": "markdown",
   "id": "44d9da8e",
   "metadata": {},
   "source": [
    "## Working with the GBM class\n",
    "\n",
    "Ideally, we want to know about many detectors. The GBM class performs operations on all detectors for ease of use. It also has plotting capabilities."
   ]
  },
  {
   "cell_type": "code",
   "execution_count": 9,
   "id": "f88975af",
   "metadata": {
    "execution": {
     "iopub.execute_input": "2022-03-16T13:50:55.460640Z",
     "iopub.status.busy": "2022-03-16T13:50:55.460276Z",
     "iopub.status.idle": "2022-03-16T13:50:55.523751Z",
     "shell.execute_reply": "2022-03-16T13:50:55.523047Z"
    }
   },
   "outputs": [],
   "source": [
    "myGBM = GBM(interp.quaternion(0),sc_pos=interp.sc_pos(0)*u.km)"
   ]
  },
  {
   "cell_type": "markdown",
   "id": "818e58dd",
   "metadata": {},
   "source": [
    "We can either plot the detectors with a field of view:"
   ]
  },
  {
   "cell_type": "code",
   "execution_count": 10,
   "id": "29dcb297",
   "metadata": {
    "execution": {
     "iopub.execute_input": "2022-03-16T13:50:55.527113Z",
     "iopub.status.busy": "2022-03-16T13:50:55.526795Z",
     "iopub.status.idle": "2022-03-16T13:50:57.518097Z",
     "shell.execute_reply": "2022-03-16T13:50:57.517459Z"
    }
   },
   "outputs": [
    {
     "data": {
      "image/png": "[encoded data removed]",
      "text/plain": [
       "<Figure size 432x288 with 1 Axes>"
      ]
     },
     "metadata": {
      "needs_background": "light"
     },
     "output_type": "display_data"
    }
   ],
   "source": [
    "myGBM.plot_detector_pointings(fov=10);"
   ]
  },
  {
   "cell_type": "markdown",
   "id": "853c0815",
   "metadata": {},
   "source": [
    "or just where the optical axis is pointing"
   ]
  },
  {
   "cell_type": "code",
   "execution_count": 11,
   "id": "ffa9b8a5",
   "metadata": {
    "execution": {
     "iopub.execute_input": "2022-03-16T13:50:57.521708Z",
     "iopub.status.busy": "2022-03-16T13:50:57.521375Z",
     "iopub.status.idle": "2022-03-16T13:50:58.340688Z",
     "shell.execute_reply": "2022-03-16T13:50:58.339888Z"
    }
   },
   "outputs": [
    {
     "data": {
      "image/png": "[encoded data removed]",
      "text/plain": [
       "<Figure size 432x288 with 1 Axes>"
      ]
     },
     "metadata": {
      "needs_background": "light"
     },
     "output_type": "display_data"
    }
   ],
   "source": [
    "myGBM.plot_detector_pointings(c='y', alpha=1,s=10);"
   ]
  },
  {
   "cell_type": "code",
   "execution_count": 12,
   "id": "b14e0a57",
   "metadata": {
    "execution": {
     "iopub.execute_input": "2022-03-16T13:50:58.344456Z",
     "iopub.status.busy": "2022-03-16T13:50:58.343980Z",
     "iopub.status.idle": "2022-03-16T13:50:59.718649Z",
     "shell.execute_reply": "2022-03-16T13:50:59.718115Z"
    }
   },
   "outputs": [
    {
     "data": {
      "image/png": "[encoded data removed]",
      "text/plain": [
       "<Figure size 432x288 with 1 Axes>"
      ]
     },
     "metadata": {
      "needs_background": "light"
     },
     "output_type": "display_data"
    }
   ],
   "source": [
    "myGBM.plot_detector_pointings(fov=10, facecolor='r', projection = \"astro globe\", center = SkyCoord(30, -30, unit='deg', frame=\"icrs\"), show_earth=False);"
   ]
  },
  {
   "cell_type": "code",
   "execution_count": 13,
   "id": "ad6a23ba",
   "metadata": {
    "execution": {
     "iopub.execute_input": "2022-03-16T13:50:59.722713Z",
     "iopub.status.busy": "2022-03-16T13:50:59.721708Z",
     "iopub.status.idle": "2022-03-16T13:50:59.736439Z",
     "shell.execute_reply": "2022-03-16T13:50:59.735965Z"
    }
   },
   "outputs": [
    {
     "data": {
      "text/plain": [
       "[<SkyCoord (GBMFrame: sc_pos_X=3184.75 km, sc_pos_Y=5985.5 km, sc_pos_Z=1456.75 km, quaternion_1=0.09894184023141861, quaternion_2=0.8139942288398743, quaternion_3=0.5676353573799133, quaternion_4=0.07357984036207199): (lon, lat) in deg\n",
       "     (45.89, 69.42)>,\n",
       " <SkyCoord (GBMFrame: sc_pos_X=3184.75 km, sc_pos_Y=5985.5 km, sc_pos_Z=1456.75 km, quaternion_1=0.09894184023141861, quaternion_2=0.8139942288398743, quaternion_3=0.5676353573799133, quaternion_4=0.07357984036207199): (lon, lat) in deg\n",
       "     (45.11, 44.69)>,\n",
       " <SkyCoord (GBMFrame: sc_pos_X=3184.75 km, sc_pos_Y=5985.5 km, sc_pos_Z=1456.75 km, quaternion_1=0.09894184023141861, quaternion_2=0.8139942288398743, quaternion_3=0.5676353573799133, quaternion_4=0.07357984036207199): (lon, lat) in deg\n",
       "     (58.44, -0.21)>,\n",
       " <SkyCoord (GBMFrame: sc_pos_X=3184.75 km, sc_pos_Y=5985.5 km, sc_pos_Z=1456.75 km, quaternion_1=0.09894184023141861, quaternion_2=0.8139942288398743, quaternion_3=0.5676353573799133, quaternion_4=0.07357984036207199): (lon, lat) in deg\n",
       "     (314.87, 44.76)>,\n",
       " <SkyCoord (GBMFrame: sc_pos_X=3184.75 km, sc_pos_Y=5985.5 km, sc_pos_Z=1456.75 km, quaternion_1=0.09894184023141861, quaternion_2=0.8139942288398743, quaternion_3=0.5676353573799133, quaternion_4=0.07357984036207199): (lon, lat) in deg\n",
       "     (303.15, -0.27)>,\n",
       " <SkyCoord (GBMFrame: sc_pos_X=3184.75 km, sc_pos_Y=5985.5 km, sc_pos_Z=1456.75 km, quaternion_1=0.09894184023141861, quaternion_2=0.8139942288398743, quaternion_3=0.5676353573799133, quaternion_4=0.07357984036207199): (lon, lat) in deg\n",
       "     (3.35, 0.03)>,\n",
       " <SkyCoord (GBMFrame: sc_pos_X=3184.75 km, sc_pos_Y=5985.5 km, sc_pos_Z=1456.75 km, quaternion_1=0.09894184023141861, quaternion_2=0.8139942288398743, quaternion_3=0.5676353573799133, quaternion_4=0.07357984036207199): (lon, lat) in deg\n",
       "     (224.93, 69.57)>,\n",
       " <SkyCoord (GBMFrame: sc_pos_X=3184.75 km, sc_pos_Y=5985.5 km, sc_pos_Z=1456.75 km, quaternion_1=0.09894184023141861, quaternion_2=0.8139942288398743, quaternion_3=0.5676353573799133, quaternion_4=0.07357984036207199): (lon, lat) in deg\n",
       "     (224.62, 43.82)>,\n",
       " <SkyCoord (GBMFrame: sc_pos_X=3184.75 km, sc_pos_Y=5985.5 km, sc_pos_Z=1456.75 km, quaternion_1=0.09894184023141861, quaternion_2=0.8139942288398743, quaternion_3=0.5676353573799133, quaternion_4=0.07357984036207199): (lon, lat) in deg\n",
       "     (236.61, 0.03)>,\n",
       " <SkyCoord (GBMFrame: sc_pos_X=3184.75 km, sc_pos_Y=5985.5 km, sc_pos_Z=1456.75 km, quaternion_1=0.09894184023141861, quaternion_2=0.8139942288398743, quaternion_3=0.5676353573799133, quaternion_4=0.07357984036207199): (lon, lat) in deg\n",
       "     (135.19, 44.45)>,\n",
       " <SkyCoord (GBMFrame: sc_pos_X=3184.75 km, sc_pos_Y=5985.5 km, sc_pos_Z=1456.75 km, quaternion_1=0.09894184023141861, quaternion_2=0.8139942288398743, quaternion_3=0.5676353573799133, quaternion_4=0.07357984036207199): (lon, lat) in deg\n",
       "     (123.73, -0.42)>,\n",
       " <SkyCoord (GBMFrame: sc_pos_X=3184.75 km, sc_pos_Y=5985.5 km, sc_pos_Z=1456.75 km, quaternion_1=0.09894184023141861, quaternion_2=0.8139942288398743, quaternion_3=0.5676353573799133, quaternion_4=0.07357984036207199): (lon, lat) in deg\n",
       "     (183.74, -0.32)>,\n",
       " <SkyCoord (GBMFrame: sc_pos_X=3184.75 km, sc_pos_Y=5985.5 km, sc_pos_Z=1456.75 km, quaternion_1=0.09894184023141861, quaternion_2=0.8139942288398743, quaternion_3=0.5676353573799133, quaternion_4=0.07357984036207199): (lon, lat) in deg\n",
       "     (0., 0.)>,\n",
       " <SkyCoord (GBMFrame: sc_pos_X=3184.75 km, sc_pos_Y=5985.5 km, sc_pos_Z=1456.75 km, quaternion_1=0.09894184023141861, quaternion_2=0.8139942288398743, quaternion_3=0.5676353573799133, quaternion_4=0.07357984036207199): (lon, lat) in deg\n",
       "     (180., 0.)>]"
      ]
     },
     "execution_count": 13,
     "metadata": {},
     "output_type": "execute_result"
    }
   ],
   "source": [
    "\n",
    "myGBM.get_centers()\n",
    "\n"
   ]
  },
  {
   "cell_type": "code",
   "execution_count": 14,
   "id": "fbe3d1c6",
   "metadata": {
    "execution": {
     "iopub.execute_input": "2022-03-16T13:50:59.740307Z",
     "iopub.status.busy": "2022-03-16T13:50:59.739315Z",
     "iopub.status.idle": "2022-03-16T13:50:59.779422Z",
     "shell.execute_reply": "2022-03-16T13:50:59.778782Z"
    }
   },
   "outputs": [
    {
     "data": {
      "text/plain": [
       "[<SkyCoord (ICRS): (ra, dec) in deg\n",
       "     (90.02053912, -5.02944102)>,\n",
       " <SkyCoord (ICRS): (ra, dec) in deg\n",
       "     (106.9639318, 13.09532427)>,\n",
       " <SkyCoord (ICRS): (ra, dec) in deg\n",
       "     (137.09793576, 52.86180786)>,\n",
       " <SkyCoord (ICRS): (ra, dec) in deg\n",
       "     (121.3144115, -45.95986919)>,\n",
       " <SkyCoord (ICRS): (ra, dec) in deg\n",
       "     (194.28783066, -52.03023808)>,\n",
       " <SkyCoord (ICRS): (ra, dec) in deg\n",
       "     (164.65699738, 2.70662314)>,\n",
       " <SkyCoord (ICRS): (ra, dec) in deg\n",
       "     (58.29477735, -33.54731071)>,\n",
       " <SkyCoord (ICRS): (ra, dec) in deg\n",
       "     (28.32615836, -45.28243674)>,\n",
       " <SkyCoord (ICRS): (ra, dec) in deg\n",
       "     (318.5160438, -51.24281778)>,\n",
       " <SkyCoord (ICRS): (ra, dec) in deg\n",
       "     (44.56221395, 13.56776347)>,\n",
       " <SkyCoord (ICRS): (ra, dec) in deg\n",
       "     (12.83264883, 51.9340734)>,\n",
       " <SkyCoord (ICRS): (ra, dec) in deg\n",
       "     (344.24965886, -2.97248228)>,\n",
       " <SkyCoord (ICRS): (ra, dec) in deg\n",
       "     (165.84085686, -0.42750824)>,\n",
       " <SkyCoord (ICRS): (ra, dec) in deg\n",
       "     (345.84085686, 0.42750824)>]"
      ]
     },
     "execution_count": 14,
     "metadata": {},
     "output_type": "execute_result"
    }
   ],
   "source": [
    "[x.icrs for x in myGBM.get_centers()]"
   ]
  },
  {
   "cell_type": "markdown",
   "id": "da9c9738",
   "metadata": {},
   "source": [
    "## Source/Detector Separation\n",
    "We can even look at the separation angles for the detectors and a source."
   ]
  },
  {
   "cell_type": "code",
   "execution_count": 15,
   "id": "25af9e75",
   "metadata": {
    "execution": {
     "iopub.execute_input": "2022-03-16T13:50:59.783715Z",
     "iopub.status.busy": "2022-03-16T13:50:59.782479Z",
     "iopub.status.idle": "2022-03-16T13:50:59.828031Z",
     "shell.execute_reply": "2022-03-16T13:50:59.827464Z"
    }
   },
   "outputs": [
    {
     "data": {
      "text/plain": [
       "n0     53.005218\n",
       "n1     61.732524\n",
       "n2     98.051083\n",
       "n3      6.161940\n",
       "n4     41.739311\n",
       "n5     56.797086\n",
       "n6     54.847311\n",
       "n7     66.309967\n",
       "n8     83.475797\n",
       "n9     96.385021\n",
       "na    139.092757\n",
       "nb    123.163854\n",
       "b0     54.656741\n",
       "b1    125.343259\n",
       "dtype: float64"
      ]
     },
     "execution_count": 15,
     "metadata": {},
     "output_type": "execute_result"
    }
   ],
   "source": [
    "grb = SkyCoord(ra=130.,dec=-45 ,frame='icrs', unit='deg')\n",
    "\n",
    "seps = myGBM.get_separation(grb)\n",
    "\n",
    "\n",
    "\n",
    "seps"
   ]
  },
  {
   "cell_type": "markdown",
   "id": "baea0ca8",
   "metadata": {},
   "source": [
    "# Fermi plotting and computing blockage\n",
    "\n",
    "## Simple plotting\n",
    "It is possible to plot a 3D model of Fermi that is to scale:"
   ]
  },
  {
   "cell_type": "code",
   "execution_count": 16,
   "id": "e9911df1",
   "metadata": {
    "execution": {
     "iopub.execute_input": "2022-03-16T13:50:59.832079Z",
     "iopub.status.busy": "2022-03-16T13:50:59.830912Z",
     "iopub.status.idle": "2022-03-16T13:51:03.778026Z",
     "shell.execute_reply": "2022-03-16T13:51:03.777190Z"
    }
   },
   "outputs": [
    {
     "data": {
      "image/png": "[encoded data removed]",
      "text/plain": [
       "<Figure size 432x288 with 1 Axes>"
      ]
     },
     "metadata": {
      "needs_background": "light"
     },
     "output_type": "display_data"
    }
   ],
   "source": [
    "from gbmgeometry.spacecraft.fermi import *\n",
    "\n",
    "\n",
    "f = Fermi(quaternion=interp.quaternion(0) , sc_pos=interp.sc_pos(0))\n",
    "f.plot_fermi(color_dets_different=True, plot_det_label=False);"
   ]
  },
  {
   "cell_type": "markdown",
   "id": "da0ddadc",
   "metadata": {},
   "source": [
    "## computing intersections\n",
    "\n",
    "It is sometimes required to see if photons from a GRB are blocked by spacecraft parts for a given detector. We can test this with the Fermi object:\n"
   ]
  },
  {
   "cell_type": "code",
   "execution_count": 17,
   "id": "8ae4dcc8",
   "metadata": {
    "execution": {
     "iopub.execute_input": "2022-03-16T13:51:03.781296Z",
     "iopub.status.busy": "2022-03-16T13:51:03.780966Z",
     "iopub.status.idle": "2022-03-16T13:51:04.078666Z",
     "shell.execute_reply": "2022-03-16T13:51:04.077540Z"
    }
   },
   "outputs": [],
   "source": [
    "f.add_ray(ray_coordinate=grb)"
   ]
  },
  {
   "cell_type": "markdown",
   "id": "38334cd7",
   "metadata": {},
   "source": [
    "we can specify to compute for a subset of detectors"
   ]
  },
  {
   "cell_type": "code",
   "execution_count": 18,
   "id": "47294eeb",
   "metadata": {
    "execution": {
     "iopub.execute_input": "2022-03-16T13:51:04.082528Z",
     "iopub.status.busy": "2022-03-16T13:51:04.082200Z",
     "iopub.status.idle": "2022-03-16T13:51:09.126487Z",
     "shell.execute_reply": "2022-03-16T13:51:09.125659Z"
    }
   },
   "outputs": [
    {
     "data": {
      "text/plain": [
       "OrderedDict([('n1',\n",
       "              OrderedDict([(0,\n",
       "                            OrderedDict([('surface', ['LAT Radiator+ -y']),\n",
       "                                         ('point',\n",
       "                                          [array([81.46506793, 96.2       , 41.55346871])]),\n",
       "                                         ('distance',\n",
       "                                          [43.19931864505643])]))])),\n",
       "             ('n2',\n",
       "              OrderedDict([(0,\n",
       "                            OrderedDict([('surface', ['LAT Radiator+ -y']),\n",
       "                                         ('point',\n",
       "                                          [array([77.03030294, 96.2       , 49.26398105])]),\n",
       "                                         ('distance',\n",
       "                                          [70.33735217701951])]))]))])"
      ]
     },
     "execution_count": 18,
     "metadata": {},
     "output_type": "execute_result"
    }
   ],
   "source": [
    "f.compute_intersections(\"n1\",\"n2\")"
   ]
  },
  {
   "cell_type": "markdown",
   "id": "1a17577a",
   "metadata": {},
   "source": [
    "or compute for all detectors"
   ]
  },
  {
   "cell_type": "code",
   "execution_count": 19,
   "id": "85bda3bb",
   "metadata": {
    "execution": {
     "iopub.execute_input": "2022-03-16T13:51:09.129899Z",
     "iopub.status.busy": "2022-03-16T13:51:09.129481Z",
     "iopub.status.idle": "2022-03-16T13:51:41.888851Z",
     "shell.execute_reply": "2022-03-16T13:51:41.888134Z"
    }
   },
   "outputs": [
    {
     "data": {
      "text/plain": [
       "OrderedDict([('n0',\n",
       "              OrderedDict([(0,\n",
       "                            OrderedDict([('surface', ['LAT Radiator+ -y']),\n",
       "                                         ('point',\n",
       "                                          [array([82.84222535, 96.2       , 86.97456421])]),\n",
       "                                         ('distance',\n",
       "                                          [29.16877080456398])]))])),\n",
       "             ('n1',\n",
       "              OrderedDict([(0,\n",
       "                            OrderedDict([('surface', ['LAT Radiator+ -y']),\n",
       "                                         ('point',\n",
       "                                          [array([81.46506793, 96.2       , 41.55346871])]),\n",
       "                                         ('distance',\n",
       "                                          [43.19931864505643])]))])),\n",
       "             ('n2',\n",
       "              OrderedDict([(0,\n",
       "                            OrderedDict([('surface', ['LAT Radiator+ -y']),\n",
       "                                         ('point',\n",
       "                                          [array([77.03030294, 96.2       , 49.26398105])]),\n",
       "                                         ('distance',\n",
       "                                          [70.33735217701951])]))])),\n",
       "             ('n3',\n",
       "              OrderedDict([(0,\n",
       "                            OrderedDict([('surface', []),\n",
       "                                         ('point', []),\n",
       "                                         ('distance', [])]))])),\n",
       "             ('n4',\n",
       "              OrderedDict([(0,\n",
       "                            OrderedDict([('surface', []),\n",
       "                                         ('point', []),\n",
       "                                         ('distance', [])]))])),\n",
       "             ('n5',\n",
       "              OrderedDict([(0,\n",
       "                            OrderedDict([('surface', []),\n",
       "                                         ('point', []),\n",
       "                                         ('distance', [])]))])),\n",
       "             ('n6',\n",
       "              OrderedDict([(0,\n",
       "                            OrderedDict([('surface', []),\n",
       "                                         ('point', []),\n",
       "                                         ('distance', [])]))])),\n",
       "             ('n7',\n",
       "              OrderedDict([(0,\n",
       "                            OrderedDict([('surface', []),\n",
       "                                         ('point', []),\n",
       "                                         ('distance', [])]))])),\n",
       "             ('n8',\n",
       "              OrderedDict([(0,\n",
       "                            OrderedDict([('surface', []),\n",
       "                                         ('point', []),\n",
       "                                         ('distance', [])]))])),\n",
       "             ('n9',\n",
       "              OrderedDict([(0,\n",
       "                            OrderedDict([('surface', []),\n",
       "                                         ('point', []),\n",
       "                                         ('distance', [])]))])),\n",
       "             ('na',\n",
       "              OrderedDict([(0,\n",
       "                            OrderedDict([('surface', []),\n",
       "                                         ('point', []),\n",
       "                                         ('distance', [])]))])),\n",
       "             ('nb',\n",
       "              OrderedDict([(0,\n",
       "                            OrderedDict([('surface', []),\n",
       "                                         ('point', []),\n",
       "                                         ('distance', [])]))])),\n",
       "             ('b0',\n",
       "              OrderedDict([(0,\n",
       "                            OrderedDict([('surface', []),\n",
       "                                         ('point', []),\n",
       "                                         ('distance', [])]))])),\n",
       "             ('b1',\n",
       "              OrderedDict([(0,\n",
       "                            OrderedDict([('surface', []),\n",
       "                                         ('point', []),\n",
       "                                         ('distance', [])]))]))])"
      ]
     },
     "execution_count": 19,
     "metadata": {},
     "output_type": "execute_result"
    }
   ],
   "source": [
    "f.compute_intersections()"
   ]
  },
  {
   "cell_type": "markdown",
   "id": "d33fee26",
   "metadata": {},
   "source": [
    "Finally, we can plot this"
   ]
  },
  {
   "cell_type": "code",
   "execution_count": 20,
   "id": "314b2232",
   "metadata": {
    "execution": {
     "iopub.execute_input": "2022-03-16T13:51:41.892215Z",
     "iopub.status.busy": "2022-03-16T13:51:41.891887Z",
     "iopub.status.idle": "2022-03-16T13:51:45.584725Z",
     "shell.execute_reply": "2022-03-16T13:51:45.583953Z"
    }
   },
   "outputs": [
    {
     "data": {
      "image/png": "[encoded data removed]",
      "text/plain": [
       "<Figure size 432x288 with 1 Axes>"
      ]
     },
     "metadata": {
      "needs_background": "light"
     },
     "output_type": "display_data"
    }
   ],
   "source": [
    "f.plot_fermi(color_dets_different=True, plot_det_label=False, with_intersections=True, with_rays=True);"
   ]
  },
  {
   "cell_type": "code",
   "execution_count": null,
   "id": "3774a98b",
   "metadata": {},
   "outputs": [],
   "source": []
  }
 ],
 "metadata": {
  "jupytext": {
   "formats": "ipynb,md"
  },
  "kernelspec": {
   "display_name": "Python 3",
   "language": "python",
   "name": "python3"
  },
  "language_info": {
   "codemirror_mode": {
    "name": "ipython",
    "version": 3
   },
   "file_extension": ".py",
   "mimetype": "text/x-python",
   "name": "python",
   "nbconvert_exporter": "python",
   "pygments_lexer": "ipython3",
   "version": "3.8.12"
  },
  "widgets": {
   "application/vnd.jupyter.widget-state+json": {
    "state": {
     "317d880e6419464895b4cc4bde1c92bf": {
      "model_module": "jupyter-vuetify",
      "model_module_version": "^1.8.2",
      "model_name": "ThemeColorsModel",
      "state": {
       "_model_module": "jupyter-vuetify",
       "_model_module_version": "^1.8.2",
       "_model_name": "ThemeColorsModel",
       "_theme_name": "light",
       "_view_count": null,
       "_view_module": null,
       "_view_module_version": "^1.8.2",
       "_view_name": null,
       "accent": "#82B1FF",
       "anchor": null,
       "error": "#FF5252",
       "info": "#2196F3",
       "primary": "#1976D2",
       "secondary": "#424242",
       "success": "#4CAF50",
       "warning": "#FB8C00"
      }
     },
     "49a575c1539d4e25b35146603b9d95a0": {
      "model_module": "jupyter-vuetify",
      "model_module_version": "^1.8.2",
      "model_name": "ThemeModel",
      "state": {
       "_model_module": "jupyter-vuetify",
       "_model_module_version": "^1.8.2",
       "_model_name": "ThemeModel",
       "_view_count": null,
       "_view_module": null,
       "_view_module_version": "^1.8.2",
       "_view_name": null,
       "dark": null
      }
     },
     "5dfbe7bdfc9f467ea2eb4be7dde130c2": {
      "model_module": "jupyter-vue",
      "model_module_version": "^1.7.0",
      "model_name": "ForceLoadModel",
      "state": {
       "_dom_classes": [],
       "_model_module": "jupyter-vue",
       "_model_module_version": "^1.7.0",
       "_model_name": "ForceLoadModel",
       "_view_count": null,
       "_view_module": null,
       "_view_module_version": "",
       "_view_name": null,
       "layout": "IPY_MODEL_b11b275f8fbc4f70bc5cc7e03501195f",
       "tabbable": null,
       "tooltip": null
      }
     },
     "945b15cae1414f048564cf4b830bb6d8": {
      "model_module": "jupyter-vuetify",
      "model_module_version": "^1.8.2",
      "model_name": "ThemeColorsModel",
      "state": {
       "_model_module": "jupyter-vuetify",
       "_model_module_version": "^1.8.2",
       "_model_name": "ThemeColorsModel",
       "_theme_name": "dark",
       "_view_count": null,
       "_view_module": null,
       "_view_module_version": "^1.8.2",
       "_view_name": null,
       "accent": "#FF4081",
       "anchor": null,
       "error": "#FF5252",
       "info": "#2196F3",
       "primary": "#2196F3",
       "secondary": "#424242",
       "success": "#4CAF50",
       "warning": "#FB8C00"
      }
     },
     "b11b275f8fbc4f70bc5cc7e03501195f": {
      "model_module": "@jupyter-widgets/base",
      "model_module_version": "2.0.0",
      "model_name": "LayoutModel",
      "state": {
       "_model_module": "@jupyter-widgets/base",
       "_model_module_version": "2.0.0",
       "_model_name": "LayoutModel",
       "_view_count": null,
       "_view_module": "@jupyter-widgets/base",
       "_view_module_version": "2.0.0",
       "_view_name": "LayoutView",
       "align_content": null,
       "align_items": null,
       "align_self": null,
       "border_bottom": null,
       "border_left": null,
       "border_right": null,
       "border_top": null,
       "bottom": null,
       "display": null,
       "flex": null,
       "flex_flow": null,
       "grid_area": null,
       "grid_auto_columns": null,
       "grid_auto_flow": null,
       "grid_auto_rows": null,
       "grid_column": null,
       "grid_gap": null,
       "grid_row": null,
       "grid_template_areas": null,
       "grid_template_columns": null,
       "grid_template_rows": null,
       "height": null,
       "justify_content": null,
       "justify_items": null,
       "left": null,
       "margin": null,
       "max_height": null,
       "max_width": null,
       "min_height": null,
       "min_width": null,
       "object_fit": null,
       "object_position": null,
       "order": null,
       "overflow": null,
       "padding": null,
       "right": null,
       "top": null,
       "visibility": null,
       "width": null
      }
     }
    },
    "version_major": 2,
    "version_minor": 0
   }
  }
 },
 "nbformat": 4,
 "nbformat_minor": 5
}
